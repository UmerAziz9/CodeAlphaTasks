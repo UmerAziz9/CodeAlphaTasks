{
 "cells": [
  {
   "cell_type": "code",
   "execution_count": 27,
   "id": "1a550aff-c13d-47d0-b6af-d2f2823e2973",
   "metadata": {},
   "outputs": [
    {
     "name": "stdout",
     "output_type": "stream",
     "text": [
      "Requirement already satisfied: bcrypt in d:\\downloads\\lib\\site-packages (3.2.0)\n",
      "Requirement already satisfied: cffi>=1.1 in d:\\downloads\\lib\\site-packages (from bcrypt) (1.16.0)\n",
      "Requirement already satisfied: six>=1.4.1 in d:\\downloads\\lib\\site-packages (from bcrypt) (1.16.0)\n",
      "Requirement already satisfied: pycparser in d:\\downloads\\lib\\site-packages (from cffi>=1.1->bcrypt) (2.21)\n",
      "Requirement already satisfied: bandit in d:\\downloads\\lib\\site-packages (1.7.10)\n",
      "Requirement already satisfied: PyYAML>=5.3.1 in d:\\downloads\\lib\\site-packages (from bandit) (6.0.1)\n",
      "Requirement already satisfied: stevedore>=1.20.0 in d:\\downloads\\lib\\site-packages (from bandit) (5.3.0)\n",
      "Requirement already satisfied: rich in d:\\downloads\\lib\\site-packages (from bandit) (13.3.5)\n",
      "Requirement already satisfied: colorama>=0.3.9 in d:\\downloads\\lib\\site-packages (from bandit) (0.4.6)\n",
      "Requirement already satisfied: pbr>=2.0.0 in d:\\downloads\\lib\\site-packages (from stevedore>=1.20.0->bandit) (6.1.0)\n",
      "Requirement already satisfied: markdown-it-py<3.0.0,>=2.2.0 in d:\\downloads\\lib\\site-packages (from rich->bandit) (2.2.0)\n",
      "Requirement already satisfied: pygments<3.0.0,>=2.13.0 in d:\\downloads\\lib\\site-packages (from rich->bandit) (2.15.1)\n",
      "Requirement already satisfied: mdurl~=0.1 in d:\\downloads\\lib\\site-packages (from markdown-it-py<3.0.0,>=2.2.0->rich->bandit) (0.1.0)\n"
     ]
    }
   ],
   "source": [
    "!pip install bcrypt\n",
    "!pip install bandit"
   ]
  },
  {
   "cell_type": "code",
   "execution_count": 28,
   "id": "f44c976a-99a2-4746-9bf0-4a87e4149fcb",
   "metadata": {},
   "outputs": [
    {
     "name": "stdin",
     "output_type": "stream",
     "text": [
      "Enter username:  Umer Aziz\n",
      "Enter password:  abc\n"
     ]
    },
    {
     "name": "stdout",
     "output_type": "stream",
     "text": [
      "Current users in the database:\n",
      "ID: 1, Username: Umer Aziz, Password (hashed): b'$2b$12$DKKftLbJ3r6HiNeTxSbciOnRo7TvvKhKiv6gGpLpJckJxCMUmf0bu'\n",
      "ID: 2, Username: Umer Aziz, Password (hashed): b'$2b$12$POlDUX7BGtNJpMz7x33W7esAZc1YjnZVHtc5Ct7UkJvULsbSA8LvG'\n"
     ]
    }
   ],
   "source": [
    "# Cell 2: Secure Implementation - Hashing and Parameterized Queries\n",
    "import sqlite3\n",
    "import bcrypt\n",
    "\n",
    "# Function to hash the password\n",
    "def hash_password(password):\n",
    "    return bcrypt.hashpw(password.encode('utf-8'), bcrypt.gensalt())\n",
    "\n",
    "# Function to create the users table (if it doesn't exist)\n",
    "def create_table():\n",
    "    conn = sqlite3.connect('users.db')\n",
    "    cursor = conn.cursor()\n",
    "    \n",
    "    # Create the users table if it doesn't already exist\n",
    "    cursor.execute('''\n",
    "        CREATE TABLE IF NOT EXISTS users (\n",
    "            id INTEGER PRIMARY KEY AUTOINCREMENT,\n",
    "            username TEXT NOT NULL,\n",
    "            password TEXT NOT NULL\n",
    "        )\n",
    "    ''')\n",
    "    \n",
    "    conn.commit()\n",
    "    conn.close()\n",
    "\n",
    "# Insert user into the database securely\n",
    "def insert_user(username, password):\n",
    "    conn = sqlite3.connect('users.db')\n",
    "    cursor = conn.cursor()\n",
    "\n",
    "    # Secure SQL query using parameterized queries to prevent SQL Injection\n",
    "    hashed_password = hash_password(password)\n",
    "    cursor.execute(\"INSERT INTO users (username, password) VALUES (?, ?)\", (username, hashed_password))\n",
    "    \n",
    "    conn.commit()\n",
    "    conn.close()\n",
    "\n",
    "# Function to view all users in the database\n",
    "def view_users():\n",
    "    conn = sqlite3.connect('users.db')\n",
    "    cursor = conn.cursor()\n",
    "    \n",
    "    cursor.execute(\"SELECT * FROM users\")\n",
    "    users = cursor.fetchall()\n",
    "    \n",
    "    print(\"Current users in the database:\")\n",
    "    for user in users:\n",
    "        print(f\"ID: {user[0]}, Username: {user[1]}, Password (hashed): {user[2]}\")\n",
    "    \n",
    "    conn.close()\n",
    "\n",
    "# Main function to get user input and insert into database\n",
    "def main():\n",
    "    # First, create the users table\n",
    "    create_table()\n",
    "    \n",
    "    # Take user input\n",
    "    username = input(\"Enter username: \")\n",
    "    password = input(\"Enter password: \")\n",
    "    \n",
    "    # Insert user into the table\n",
    "    insert_user(username, password)\n",
    "\n",
    "    # View all users\n",
    "    view_users()\n",
    "\n",
    "# Run the main function\n",
    "main()\n"
   ]
  },
  {
   "cell_type": "code",
   "execution_count": 29,
   "id": "d42d8f53-caa7-4683-904c-36f0d2e7dfdd",
   "metadata": {
    "scrolled": true
   },
   "outputs": [
    {
     "name": "stdout",
     "output_type": "stream",
     "text": [
      "usage: bandit [-h] [-r] [-a {file,vuln}] [-n CONTEXT_LINES] [-c CONFIG_FILE]\n",
      "              [-p PROFILE] [-t TESTS] [-s SKIPS]\n",
      "              [-l | --severity-level {all,low,medium,high}]\n",
      "              [-i | --confidence-level {all,low,medium,high}]\n",
      "              [-f {csv,custom,html,json,screen,txt,xml,yaml}]\n",
      "              [--msg-template MSG_TEMPLATE] [-o [OUTPUT_FILE]] [-v] [-d] [-q]\n",
      "              [--ignore-nosec] [-x EXCLUDED_PATHS] [-b BASELINE]\n",
      "              [--ini INI_PATH] [--exit-zero] [--version]\n",
      "              [targets ...]\n"
     ]
    }
   ],
   "source": [
    "!bandit -r"
   ]
  }
 ],
 "metadata": {
  "kernelspec": {
   "display_name": "Python 3 (ipykernel)",
   "language": "python",
   "name": "python3"
  },
  "language_info": {
   "codemirror_mode": {
    "name": "ipython",
    "version": 3
   },
   "file_extension": ".py",
   "mimetype": "text/x-python",
   "name": "python",
   "nbconvert_exporter": "python",
   "pygments_lexer": "ipython3",
   "version": "3.12.4"
  }
 },
 "nbformat": 4,
 "nbformat_minor": 5
}
